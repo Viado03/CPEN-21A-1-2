{
  "nbformat": 4,
  "nbformat_minor": 0,
  "metadata": {
    "colab": {
      "name": "Final Exam.ipynb",
      "provenance": [],
      "authorship_tag": "ABX9TyMDckVofTx0hcnYXE9eBrqf",
      "include_colab_link": true
    },
    "kernelspec": {
      "name": "python3",
      "display_name": "Python 3"
    },
    "language_info": {
      "name": "python"
    }
  },
  "cells": [
    {
      "cell_type": "markdown",
      "metadata": {
        "id": "view-in-github",
        "colab_type": "text"
      },
      "source": [
        "<a href=\"https://colab.research.google.com/github/Viado03/CPEN-21A-1-2/blob/main/Final_Exam.ipynb\" target=\"_parent\"><img src=\"https://colab.research.google.com/assets/colab-badge.svg\" alt=\"Open In Colab\"/></a>"
      ]
    },
    {
      "cell_type": "markdown",
      "source": [
        "###Problem Statement 1"
      ],
      "metadata": {
        "id": "uWMw8EmSxsIK"
      }
    },
    {
      "cell_type": "code",
      "source": [
        "n = {-5,-4,-3,-2,-1,0,1,2,3,4}\n",
        "sum = 0\n",
        "for x in n:\n",
        "  sum = sum + x\n",
        "print(\"The sum of 10 number less than 5 is\", sum)"
      ],
      "metadata": {
        "colab": {
          "base_uri": "https://localhost:8080/"
        },
        "id": "9HPcnl_Fx3o5",
        "outputId": "71888b2e-50bc-4e1b-fbc6-46ffe6da9ae0"
      },
      "execution_count": 5,
      "outputs": [
        {
          "output_type": "stream",
          "name": "stdout",
          "text": [
            "The sum of 10 number less than 5 is -5\n"
          ]
        }
      ]
    },
    {
      "cell_type": "markdown",
      "source": [
        "###Problem Statement 2"
      ],
      "metadata": {
        "id": "rGxFEggozMrD"
      }
    },
    {
      "cell_type": "code",
      "source": [
        "i = 1\n",
        "while i<6:\n",
        "  print(\"Number\" , i)\n",
        "  i=i+1\n",
        "\n",
        "  #else \n",
        "\n",
        "sum = 1+5\n",
        "print(\"In the number 1,2,3,4,5 the sum of first and last among the five numbers is\", sum)"
      ],
      "metadata": {
        "colab": {
          "base_uri": "https://localhost:8080/"
        },
        "id": "1JzwIK5uzPei",
        "outputId": "59b081d3-e478-4047-8f0a-3797ccc29ca3"
      },
      "execution_count": 31,
      "outputs": [
        {
          "output_type": "stream",
          "name": "stdout",
          "text": [
            "Number 1\n",
            "Number 2\n",
            "Number 3\n",
            "Number 4\n",
            "Number 5\n",
            "In the number 1,2,3,4,5 the sum of first and last among the five numbers is 6\n"
          ]
        }
      ]
    },
    {
      "cell_type": "markdown",
      "source": [
        "###Problem Statement 3"
      ],
      "metadata": {
        "id": "JWmjnKzE1S-D"
      }
    },
    {
      "cell_type": "code",
      "source": [
        "avg = int(input(\"Input your average grade : \"))\n",
        "if avg>=90:\n",
        "  print(\"Your grade is A\")\n",
        "elif avg>=80 and avg<=89 :\n",
        "  print(\"Your grade is B\")\n",
        "elif avg>=70 and avg<=79 :\n",
        "  print(\"Your grade is C\")\n",
        "elif avg>=60 and avg<=69 :\n",
        "  print(\"Your grade is D\")\n",
        "else   :\n",
        "  print(\"Your grade is F\")"
      ],
      "metadata": {
        "colab": {
          "base_uri": "https://localhost:8080/"
        },
        "id": "AJU2JliF1VEB",
        "outputId": "8a5180f0-9c83-4cf9-f9f7-0454913c4857"
      },
      "execution_count": 23,
      "outputs": [
        {
          "output_type": "stream",
          "name": "stdout",
          "text": [
            "Input your average grade : 42\n",
            "Your grade is F\n"
          ]
        }
      ]
    }
  ]
}