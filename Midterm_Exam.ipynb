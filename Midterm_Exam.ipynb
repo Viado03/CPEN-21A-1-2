{
  "nbformat": 4,
  "nbformat_minor": 0,
  "metadata": {
    "colab": {
      "name": "Midterm Exam.ipynb",
      "provenance": [],
      "authorship_tag": "ABX9TyOlICwEEcim14A0bm7sq9AT",
      "include_colab_link": true
    },
    "kernelspec": {
      "name": "python3",
      "display_name": "Python 3"
    },
    "language_info": {
      "name": "python"
    }
  },
  "cells": [
    {
      "cell_type": "markdown",
      "metadata": {
        "id": "view-in-github",
        "colab_type": "text"
      },
      "source": [
        "<a href=\"https://colab.research.google.com/github/Viado03/CPEN-21A-1-2/blob/main/Midterm_Exam.ipynb\" target=\"_parent\"><img src=\"https://colab.research.google.com/assets/colab-badge.svg\" alt=\"Open In Colab\"/></a>"
      ]
    },
    {
      "cell_type": "markdown",
      "metadata": {
        "id": "SON_E3qqB-IC"
      },
      "source": [
        "###Midterm Exam"
      ]
    },
    {
      "cell_type": "markdown",
      "metadata": {
        "id": "1rO9_lZwDOvj"
      },
      "source": [
        "###Statement 1"
      ]
    },
    {
      "cell_type": "code",
      "metadata": {
        "colab": {
          "base_uri": "https://localhost:8080/"
        },
        "id": "EXXllQUPCAPi",
        "outputId": "e6e93bc4-f40c-4da8-fc12-3bcef5b3f462"
      },
      "source": [
        "a = \"Jhon Arvin T. Viado\" #Full name\n",
        "print(\"My name is \" + a)\n",
        "\n",
        "b= 202102083 #Student Number\n",
        "print(b)\n",
        "\n",
        "c= \"18 years old\" #Age\n",
        "print(c)\n",
        "\n",
        "d= \"August 22, 2003\" #Birthday\n",
        "print(d)\n",
        "\n",
        "e= \"Alulod Indang Cavite\" #Address\n",
        "print(e)\n",
        "\n",
        "f= \"Bachelor of Science in Computer Engineering\" #Course\n",
        "print(f)\n",
        "\n",
        "g= \"94\" #GWA\n",
        "print(g)\n"
      ],
      "execution_count": 14,
      "outputs": [
        {
          "output_type": "stream",
          "name": "stdout",
          "text": [
            "My name is Jhon Arvin T. Viado\n",
            "202102083\n",
            "18 years old\n",
            "August 22, 2003\n",
            "Alulod Indang Cavite\n",
            "Bachelor of Science in Computer Engineering\n",
            "94\n"
          ]
        }
      ]
    },
    {
      "cell_type": "markdown",
      "metadata": {
        "id": "a5tU00RkDVzy"
      },
      "source": [
        "###Statement 2"
      ]
    },
    {
      "cell_type": "code",
      "metadata": {
        "colab": {
          "base_uri": "https://localhost:8080/"
        },
        "id": "lV1buaMbDaRD",
        "outputId": "3c3b82ae-122d-4691-ceb6-27c39105ef77"
      },
      "source": [
        "n = 4\n",
        "answ = \"Y\"\n",
        "#a\n",
        "print(2<n and n<6)\n",
        "#b\n",
        "print(2<n or n==6)\n",
        "#c\n",
        "print(not(2<n or n==6))\n",
        "#d\n",
        "print(not(n<6))\n",
        "#e\n",
        "print(answ==\"Y\" or answ==\"y\")\n",
        "#f\n",
        "print(answ==\"Y\" and answ==\"y\")\n",
        "#g\n",
        "print(not(answ==\"y\"))\n",
        "#h\n",
        "print((2<n and n==5+1) or(answ==\"No\"))\n",
        "#i\n",
        "print((n==2 and n==7) or (answ==\"Y\"))\n",
        "#j\n",
        "print((n==2) and (n==7 or answ==\"Y\"))\n"
      ],
      "execution_count": 19,
      "outputs": [
        {
          "output_type": "stream",
          "name": "stdout",
          "text": [
            "True\n",
            "True\n",
            "False\n",
            "False\n",
            "True\n",
            "False\n",
            "True\n",
            "False\n",
            "True\n",
            "False\n"
          ]
        }
      ]
    },
    {
      "cell_type": "markdown",
      "metadata": {
        "id": "hGS_-Eg2E-Wr"
      },
      "source": [
        "###Statement 3"
      ]
    },
    {
      "cell_type": "code",
      "metadata": {
        "colab": {
          "base_uri": "https://localhost:8080/"
        },
        "id": "6bmDOn4_FBBy",
        "outputId": "11125236-0b08-42f0-ea7f-678e11daf333"
      },
      "source": [
        "x=2\n",
        "y=-3\n",
        "w=7\n",
        "z=-10\n",
        "\n",
        "print(x/y) #a\n",
        "\n",
        "print(w/y/x) #b\n",
        "\n",
        "print(z/y%x) #c\n",
        "\n",
        "print(x%-y*w) #d\n",
        "\n",
        "print(x%y) #e\n",
        "\n",
        "print(z%w-y/x*5+5) #f\n",
        "\n",
        "print(9-x%(2+y)) #g\n",
        "\n",
        "print(z//w) #h\n",
        "\n",
        "print((2+y)**2) #i\n",
        "\n",
        "print(w/x*2) #j"
      ],
      "execution_count": 16,
      "outputs": [
        {
          "output_type": "stream",
          "name": "stdout",
          "text": [
            "-0.6666666666666666\n",
            "-1.1666666666666667\n",
            "1.3333333333333335\n",
            "14\n",
            "-1\n",
            "16.5\n",
            "9\n",
            "-2\n",
            "1\n",
            "7.0\n"
          ]
        }
      ]
    }
  ]
}