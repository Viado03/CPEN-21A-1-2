{
  "nbformat": 4,
  "nbformat_minor": 0,
  "metadata": {
    "colab": {
      "name": "OPERATION AND EXPRESSION.ipynb",
      "provenance": [],
      "authorship_tag": "ABX9TyPAzuI7G/uoHVomI+1vbIT5",
      "include_colab_link": true
    },
    "kernelspec": {
      "name": "python3",
      "display_name": "Python 3"
    },
    "language_info": {
      "name": "python"
    }
  },
  "cells": [
    {
      "cell_type": "markdown",
      "metadata": {
        "id": "view-in-github",
        "colab_type": "text"
      },
      "source": [
        "<a href=\"https://colab.research.google.com/github/Viado03/CPEN-21A-1-2/blob/main/OPERATION_AND_EXPRESSION.ipynb\" target=\"_parent\"><img src=\"https://colab.research.google.com/assets/colab-badge.svg\" alt=\"Open In Colab\"/></a>"
      ]
    },
    {
      "cell_type": "markdown",
      "metadata": {
        "id": "1Q7JzA0S0gAk"
      },
      "source": [
        "##BOOLEAN OPERATOR"
      ]
    },
    {
      "cell_type": "code",
      "metadata": {
        "colab": {
          "base_uri": "https://localhost:8080/"
        },
        "id": "Kdqr4jDz01Yd",
        "outputId": "3033943b-07c4-4ada-f539-3c4472df5cb7"
      },
      "source": [
        "#Boolean represent one of two values : True or False\n",
        "print(10>9)\n",
        "print(10==9)\n",
        "print(10<9)"
      ],
      "execution_count": 1,
      "outputs": [
        {
          "output_type": "stream",
          "name": "stdout",
          "text": [
            "True\n",
            "False\n",
            "False\n"
          ]
        }
      ]
    },
    {
      "cell_type": "code",
      "metadata": {
        "colab": {
          "base_uri": "https://localhost:8080/"
        },
        "id": "WhEqTRzs1TZs",
        "outputId": "30ea04b6-c807-4cd0-fbc7-04a9b0c00f97"
      },
      "source": [
        "a = 10\n",
        "b = 9\n",
        "\n",
        "print(a>b)\n",
        "print(a==a)"
      ],
      "execution_count": 2,
      "outputs": [
        {
          "output_type": "stream",
          "name": "stdout",
          "text": [
            "True\n",
            "True\n"
          ]
        }
      ]
    },
    {
      "cell_type": "markdown",
      "metadata": {
        "id": "810Ruy-n4Y9U"
      },
      "source": [
        "###You Try!"
      ]
    },
    {
      "cell_type": "code",
      "metadata": {
        "colab": {
          "base_uri": "https://localhost:8080/"
        },
        "id": "9_pwfS2O4b-r",
        "outputId": "3c9f49dd-31ad-44de-c841-bae7bc674839"
      },
      "source": [
        "a= 6\n",
        "b= 7\n",
        "\n",
        "print(a==b)\n",
        "print(a!=a)"
      ],
      "execution_count": 3,
      "outputs": [
        {
          "output_type": "stream",
          "name": "stdout",
          "text": [
            "False\n",
            "False\n"
          ]
        }
      ]
    },
    {
      "cell_type": "code",
      "metadata": {
        "colab": {
          "base_uri": "https://localhost:8080/"
        },
        "id": "L7nS4YMq5WmL",
        "outputId": "50808e74-7a67-4064-ea4c-5432b1f0885c"
      },
      "source": [
        "print(10+5)\n",
        "print(10-5)\n",
        "print(10*5)\n",
        "print(10/5) #division - quotient\n",
        "print(10%5)"
      ],
      "execution_count": 4,
      "outputs": [
        {
          "output_type": "stream",
          "name": "stdout",
          "text": [
            "15\n",
            "5\n",
            "50\n",
            "2.0\n",
            "0\n"
          ]
        }
      ]
    },
    {
      "cell_type": "markdown",
      "metadata": {
        "id": "8fp27Mp-8yMq"
      },
      "source": [
        "###BINARY"
      ]
    },
    {
      "cell_type": "code",
      "metadata": {
        "colab": {
          "base_uri": "https://localhost:8080/"
        },
        "id": "KPWCwWl480OZ",
        "outputId": "622e702b-826e-404b-bfd9-b65f0751739b"
      },
      "source": [
        "a= 60 #0011 1100\n",
        "b= 13 #0000 1101\n",
        "\n",
        "print(a &b)\n",
        "print(a|b)\n",
        "print(a^b)\n",
        "print(~a)\n",
        "print(a << 2)\n",
        "print(a >> 2)"
      ],
      "execution_count": 5,
      "outputs": [
        {
          "output_type": "stream",
          "name": "stdout",
          "text": [
            "12\n",
            "61\n",
            "49\n",
            "-61\n",
            "240\n",
            "15\n"
          ]
        }
      ]
    },
    {
      "cell_type": "code",
      "metadata": {
        "colab": {
          "base_uri": "https://localhost:8080/"
        },
        "id": "eKhe0mtg-0LJ",
        "outputId": "a2598d17-eab7-4676-cd9f-d0fc4e218a0b"
      },
      "source": [
        "x = 6\n",
        "x+= 3 #x= x+3\n",
        "print(x)\n",
        "\n",
        "x%=3\n",
        "print(x)"
      ],
      "execution_count": 7,
      "outputs": [
        {
          "output_type": "stream",
          "name": "stdout",
          "text": [
            "9\n",
            "0\n"
          ]
        }
      ]
    },
    {
      "cell_type": "code",
      "metadata": {
        "colab": {
          "base_uri": "https://localhost:8080/"
        },
        "id": "fOpn0Dj-_eSv",
        "outputId": "d7b352ee-e32f-4faf-9363-73996051ee38"
      },
      "source": [
        "a= True\n",
        "b= False\n",
        "print(a and b)\n",
        "print(a or b)\n",
        "print(not(a and b))\n"
      ],
      "execution_count": 18,
      "outputs": [
        {
          "output_type": "stream",
          "name": "stdout",
          "text": [
            "False\n",
            "True\n",
            "True\n"
          ]
        }
      ]
    },
    {
      "cell_type": "code",
      "metadata": {
        "colab": {
          "base_uri": "https://localhost:8080/"
        },
        "id": "v7VI4MKXBCV4",
        "outputId": "3f3728bf-4583-4cb5-afda-d91481818cf7"
      },
      "source": [
        "def myFunction() :return True\n",
        "print(myFunction())"
      ],
      "execution_count": 16,
      "outputs": [
        {
          "output_type": "stream",
          "name": "stdout",
          "text": [
            "True\n"
          ]
        }
      ]
    },
    {
      "cell_type": "code",
      "metadata": {
        "colab": {
          "base_uri": "https://localhost:8080/"
        },
        "id": "lcJfs5M6CSnw",
        "outputId": "7a8de2ee-eae8-4f24-83eb-a46ecff19673"
      },
      "source": [
        "def myFunction() :return True\n",
        "print(myFunction())\n",
        "\n",
        "if myFunction() :\n",
        "  print(\"Yes\")\n",
        "else :\n",
        "  print(\"No\")"
      ],
      "execution_count": 17,
      "outputs": [
        {
          "output_type": "stream",
          "name": "stdout",
          "text": [
            "True\n",
            "Yes\n"
          ]
        }
      ]
    },
    {
      "cell_type": "code",
      "metadata": {
        "colab": {
          "base_uri": "https://localhost:8080/"
        },
        "id": "XBXGBaDYCiD3",
        "outputId": "b266d6d3-d272-40e7-c9cd-369b4385d92b"
      },
      "source": [
        "a is b\n",
        "a is not b "
      ],
      "execution_count": 19,
      "outputs": [
        {
          "output_type": "execute_result",
          "data": {
            "text/plain": [
              "True"
            ]
          },
          "metadata": {},
          "execution_count": 19
        }
      ]
    }
  ]
}